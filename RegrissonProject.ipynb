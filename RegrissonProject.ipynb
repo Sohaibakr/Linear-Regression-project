{
 "cells": [
  {
   "cell_type": "markdown",
   "id": "1d048f6e",
   "metadata": {},
   "source": [
    "#  Real estate prices prediction\n",
    "## by:\n",
    "<p><strong>Mashari Almuhanna</strong></p>\n",
    "         <b>Sohaib Albakri</b>\n"
   ]
  },
  {
   "cell_type": "markdown",
   "id": "cf43e880",
   "metadata": {},
   "source": [
    "## Problem\n",
    "\n",
    "> Most of the preparty owners those trying to set a selling price for their property does not\n",
    "know what is the best price which make them set a high price or to low. "
   ]
  },
  {
   "cell_type": "markdown",
   "id": "7bd3b27a",
   "metadata": {},
   "source": [
    "## Solution\n",
    "\n",
    ">In this project, we will develop a linear regression model to predict the property prices\n",
    "according to its characteristics and location. Which will help the owners to set the best price."
   ]
  },
  {
   "cell_type": "markdown",
   "id": "36f48a35",
   "metadata": {},
   "source": [
    "## Dataset \n",
    "> The dataset we will use contains the number of rooms, number of baths the size of the property,\n",
    "price, and the district. The data are taken from the [Aqar website](https://sa.aqar.fm/%D8%A8%D9%8A%D8%AA-%D9%84%D9%84%D8%A8%D9%8A%D8%B9/%D8%A7%D9%84%D8%B1%D9%8A%D8%A7%D8%B6). The following table explains the\n",
    "dataset in detail:"
   ]
  },
  {
   "cell_type": "markdown",
   "id": "1bef77ec",
   "metadata": {},
   "source": [
    "- Rooms | Number of the bedrooms (Integer)<br>\n",
    "\n",
    "- Baths | Number of the bathrooms(Integer)\n",
    "- Size  | Size of the house in squared meter (Integer)\n",
    "- Price | Price of the house on Saudi Riyals(Integer)\n",
    "- District | the District the house on (String)\n"
   ]
  },
  {
   "cell_type": "code",
   "execution_count": 1,
   "id": "ddb286a6",
   "metadata": {},
   "outputs": [],
   "source": [
    "from bs4 import BeautifulSoup\n",
    "import requests\n",
    "import math\n",
    "import pandas as pd\n",
    "import patsy\n",
    "\n",
    "import scipy.stats as stats\n",
    "import statsmodels.api as sm\n",
    "import statsmodels.formula.api as smf\n",
    "from sklearn import preprocessing\n",
    "from sklearn.linear_model import LinearRegression,Ridge\n",
    "from sklearn.model_selection import train_test_split, cross_val_score\n",
    "from sklearn.preprocessing import PolynomialFeatures,StandardScaler\n",
    "from sklearn.pipeline import make_pipeline\n",
    "\n",
    "import numpy as np\n",
    "import pickle\n",
    "import matplotlib.pyplot as plt\n",
    "%matplotlib inline\n",
    "import seaborn as sns\n",
    "sns.set()\n",
    "\n"
   ]
  },
  {
   "cell_type": "markdown",
   "id": "f8c37682",
   "metadata": {},
   "source": [
    "## Web Scraping "
   ]
  },
  {
   "cell_type": "code",
   "execution_count": 2,
   "id": "903a18c3",
   "metadata": {},
   "outputs": [],
   "source": [
    "url = 'https://ar.wikipedia.org/wiki/%D8%A3%D8%AD%D9%8A%D8%A7%D8%A1_%D8%A7%D9%84%D8%B1%D9%8A%D8%A7%D8%B6' \n",
    "response = requests.get(url)\n",
    "response.status_code\n",
    "page = response.text\n",
    "soup = BeautifulSoup(page, \"lxml\")"
   ]
  },
  {
   "cell_type": "code",
   "execution_count": 3,
   "id": "7ef2e408",
   "metadata": {},
   "outputs": [],
   "source": [
    "districts = [\"طويق\", \"الحائر\", \"الاندلس\", \"الشرفية\", \"الشفا\", \"البيان\", \"الصالحية\", \"غبيرة\", \"العيينة\", \"ام سليم\", \"الشرق\"]\n",
    "table = soup.find(class_=\"wikitable\")\n",
    "rows = soup.find_all(\"tr\")\n",
    "dist = []\n",
    "for r in rows:\n",
    "    tds = r.find_all(\"td\")\n",
    "    if len(tds) >= 2:\n",
    "        districts.append(tds[1].text)"
   ]
  },
  {
   "cell_type": "code",
   "execution_count": 4,
   "id": "d821631d",
   "metadata": {},
   "outputs": [],
   "source": [
    "fixed_districts = []\n",
    "for d in districts:\n",
    "    fixed = d.replace(\"حي \", \"\")\n",
    "    fixed = fixed.replace(\"الغربي \", \"\")\n",
    "    fixed = fixed.replace(\"الشرقي \", \"\")\n",
    "    fixed = fixed.replace(\"الغربية \", \"\")\n",
    "    fixed = fixed.replace(\"الشرقية \", \"\")\n",
    "    fixed = fixed.replace(\"الشرقية \", \"\")\n",
    "    fixed = fixed.replace(\"الشرقية \", \"\")\n",
    "    fixed = fixed.replace(\"\\n\", \"\")\n",
    "    \n",
    "    if(len(fixed) > 1):\n",
    "        valid = True\n",
    "        for character in fixed:\n",
    "            if character.isdigit():\n",
    "                valid = False\n",
    "                break\n",
    "\n",
    "        if valid:\n",
    "            fixed_districts.append(fixed)"
   ]
  },
  {
   "cell_type": "code",
   "execution_count": 5,
   "id": "fc270e8b",
   "metadata": {},
   "outputs": [],
   "source": [
    "print(list(set(fixed_districts)))"
   ]
  },
  {
   "cell_type": "code",
   "execution_count": 6,
   "id": "b7479644",
   "metadata": {},
   "outputs": [],
   "source": [
    "def prepare_data(houses_list, soup, districts):\n",
    "    houses=soup.find_all(class_='titleAndDetails')\n",
    "    headers = [\"PRICE\", \"BED\", \"BATH\", \"SIZE\", \"DISTRICT\"]\n",
    "\n",
    "    for house in houses:\n",
    "        price = int(house.find(class_=\"price\").text.replace(\"ريال\", \"\").replace(\",\", \"\").strip())\n",
    "        bed = int(house.find(class_=\"bed\").text.strip())\n",
    "        bath = int(house.find(class_=\"bath\").text.strip())\n",
    "        size = int(house.find(class_=\"size\").text.replace(\"م²\", \"\").strip())\n",
    "        address = house.find(class_=\"listTitle\").text.strip()\n",
    "\n",
    "        house_dist = None\n",
    "        for district in districts:\n",
    "            if district in address:\n",
    "                house_dist = district.strip()\n",
    "                break\n",
    "            \n",
    "        house_dict = dict(zip(headers, [price, bed, bath, size, house_dist]))\n",
    "        houses_list.append(house_dict)"
   ]
  },
  {
   "cell_type": "code",
   "execution_count": 7,
   "id": "e9808c8e",
   "metadata": {},
   "outputs": [],
   "source": [
    "houses_list = []\n",
    "i = 1\n",
    "while i < 50:\n",
    "    url = f'https://sa.aqar.fm/%D8%A8%D9%8A%D8%AA-%D9%84%D9%84%D8%A8%D9%8A%D8%B9/%D8%A7%D9%84%D8%B1%D9%8A%D8%A7%D8%B6/{i}' \n",
    "    response = requests.get(url)\n",
    "    if response.status_code == 200:\n",
    "        page = response.text\n",
    "        soup = BeautifulSoup(page, \"lxml\")\n",
    "        prepare_data(houses_list, soup, fixed_districts)\n",
    "        i += 1\n",
    "    else:\n",
    "        break"
   ]
  },
  {
   "cell_type": "code",
   "execution_count": 8,
   "id": "abcc243d",
   "metadata": {},
   "outputs": [],
   "source": [
    "df = pd.DataFrame(houses_list)\n",
    "df"
   ]
  },
  {
   "cell_type": "code",
   "execution_count": 9,
   "id": "7fcdac8f",
   "metadata": {},
   "outputs": [
    {
     "data": {
      "text/html": [
       "<div>\n",
       "<style scoped>\n",
       "    .dataframe tbody tr th:only-of-type {\n",
       "        vertical-align: middle;\n",
       "    }\n",
       "\n",
       "    .dataframe tbody tr th {\n",
       "        vertical-align: top;\n",
       "    }\n",
       "\n",
       "    .dataframe thead th {\n",
       "        text-align: right;\n",
       "    }\n",
       "</style>\n",
       "<table border=\"1\" class=\"dataframe\">\n",
       "  <thead>\n",
       "    <tr style=\"text-align: right;\">\n",
       "      <th></th>\n",
       "      <th>Unnamed: 0</th>\n",
       "      <th>PRICE</th>\n",
       "      <th>BED</th>\n",
       "      <th>BATH</th>\n",
       "      <th>SIZE</th>\n",
       "      <th>DISTRICT</th>\n",
       "    </tr>\n",
       "  </thead>\n",
       "  <tbody>\n",
       "    <tr>\n",
       "      <th>0</th>\n",
       "      <td>0</td>\n",
       "      <td>3000000</td>\n",
       "      <td>5</td>\n",
       "      <td>4</td>\n",
       "      <td>1100</td>\n",
       "      <td>الخليج</td>\n",
       "    </tr>\n",
       "    <tr>\n",
       "      <th>1</th>\n",
       "      <td>1</td>\n",
       "      <td>4930000</td>\n",
       "      <td>5</td>\n",
       "      <td>4</td>\n",
       "      <td>1030</td>\n",
       "      <td>الرمال</td>\n",
       "    </tr>\n",
       "    <tr>\n",
       "      <th>2</th>\n",
       "      <td>2</td>\n",
       "      <td>780000</td>\n",
       "      <td>5</td>\n",
       "      <td>4</td>\n",
       "      <td>455</td>\n",
       "      <td>الدار البيضاء</td>\n",
       "    </tr>\n",
       "    <tr>\n",
       "      <th>3</th>\n",
       "      <td>3</td>\n",
       "      <td>880000</td>\n",
       "      <td>5</td>\n",
       "      <td>4</td>\n",
       "      <td>375</td>\n",
       "      <td>النسيم الغربي</td>\n",
       "    </tr>\n",
       "    <tr>\n",
       "      <th>4</th>\n",
       "      <td>4</td>\n",
       "      <td>1800000</td>\n",
       "      <td>5</td>\n",
       "      <td>5</td>\n",
       "      <td>800</td>\n",
       "      <td>طويق</td>\n",
       "    </tr>\n",
       "  </tbody>\n",
       "</table>\n",
       "</div>"
      ],
      "text/plain": [
       "   Unnamed: 0    PRICE  BED  BATH  SIZE       DISTRICT\n",
       "0           0  3000000    5     4  1100         الخليج\n",
       "1           1  4930000    5     4  1030         الرمال\n",
       "2           2   780000    5     4   455  الدار البيضاء\n",
       "3           3   880000    5     4   375  النسيم الغربي\n",
       "4           4  1800000    5     5   800           طويق"
      ]
     },
     "execution_count": 9,
     "metadata": {},
     "output_type": "execute_result"
    }
   ],
   "source": [
    "df = pd.read_csv('Aqar.csv')\n",
    "df.head()"
   ]
  },
  {
   "cell_type": "code",
   "execution_count": 49,
   "id": "acb4bb41",
   "metadata": {},
   "outputs": [
    {
     "data": {
      "text/html": [
       "<div>\n",
       "<style scoped>\n",
       "    .dataframe tbody tr th:only-of-type {\n",
       "        vertical-align: middle;\n",
       "    }\n",
       "\n",
       "    .dataframe tbody tr th {\n",
       "        vertical-align: top;\n",
       "    }\n",
       "\n",
       "    .dataframe thead th {\n",
       "        text-align: right;\n",
       "    }\n",
       "</style>\n",
       "<table border=\"1\" class=\"dataframe\">\n",
       "  <thead>\n",
       "    <tr style=\"text-align: right;\">\n",
       "      <th></th>\n",
       "      <th>Unnamed: 0</th>\n",
       "      <th>PRICE</th>\n",
       "      <th>BED</th>\n",
       "      <th>BATH</th>\n",
       "      <th>SIZE</th>\n",
       "    </tr>\n",
       "  </thead>\n",
       "  <tbody>\n",
       "    <tr>\n",
       "      <th>count</th>\n",
       "      <td>958.000000</td>\n",
       "      <td>9.580000e+02</td>\n",
       "      <td>958.000000</td>\n",
       "      <td>958.000000</td>\n",
       "      <td>958.000000</td>\n",
       "    </tr>\n",
       "    <tr>\n",
       "      <th>mean</th>\n",
       "      <td>483.768267</td>\n",
       "      <td>1.059222e+06</td>\n",
       "      <td>4.455115</td>\n",
       "      <td>3.525052</td>\n",
       "      <td>392.212944</td>\n",
       "    </tr>\n",
       "    <tr>\n",
       "      <th>std</th>\n",
       "      <td>278.810832</td>\n",
       "      <td>1.103600e+06</td>\n",
       "      <td>0.947730</td>\n",
       "      <td>1.146937</td>\n",
       "      <td>347.598518</td>\n",
       "    </tr>\n",
       "    <tr>\n",
       "      <th>min</th>\n",
       "      <td>0.000000</td>\n",
       "      <td>1.000000e+04</td>\n",
       "      <td>1.000000</td>\n",
       "      <td>1.000000</td>\n",
       "      <td>50.000000</td>\n",
       "    </tr>\n",
       "    <tr>\n",
       "      <th>25%</th>\n",
       "      <td>242.500000</td>\n",
       "      <td>2.500000e+05</td>\n",
       "      <td>4.000000</td>\n",
       "      <td>3.000000</td>\n",
       "      <td>150.250000</td>\n",
       "    </tr>\n",
       "    <tr>\n",
       "      <th>50%</th>\n",
       "      <td>485.500000</td>\n",
       "      <td>8.000000e+05</td>\n",
       "      <td>5.000000</td>\n",
       "      <td>4.000000</td>\n",
       "      <td>350.000000</td>\n",
       "    </tr>\n",
       "    <tr>\n",
       "      <th>75%</th>\n",
       "      <td>724.750000</td>\n",
       "      <td>1.300000e+06</td>\n",
       "      <td>5.000000</td>\n",
       "      <td>4.000000</td>\n",
       "      <td>450.000000</td>\n",
       "    </tr>\n",
       "    <tr>\n",
       "      <th>max</th>\n",
       "      <td>964.000000</td>\n",
       "      <td>7.000000e+06</td>\n",
       "      <td>5.000000</td>\n",
       "      <td>5.000000</td>\n",
       "      <td>4900.000000</td>\n",
       "    </tr>\n",
       "  </tbody>\n",
       "</table>\n",
       "</div>"
      ],
      "text/plain": [
       "       Unnamed: 0         PRICE         BED        BATH         SIZE\n",
       "count  958.000000  9.580000e+02  958.000000  958.000000   958.000000\n",
       "mean   483.768267  1.059222e+06    4.455115    3.525052   392.212944\n",
       "std    278.810832  1.103600e+06    0.947730    1.146937   347.598518\n",
       "min      0.000000  1.000000e+04    1.000000    1.000000    50.000000\n",
       "25%    242.500000  2.500000e+05    4.000000    3.000000   150.250000\n",
       "50%    485.500000  8.000000e+05    5.000000    4.000000   350.000000\n",
       "75%    724.750000  1.300000e+06    5.000000    4.000000   450.000000\n",
       "max    964.000000  7.000000e+06    5.000000    5.000000  4900.000000"
      ]
     },
     "execution_count": 49,
     "metadata": {},
     "output_type": "execute_result"
    }
   ],
   "source": [
    "df.describe()"
   ]
  },
  {
   "cell_type": "markdown",
   "id": "950819b1",
   "metadata": {},
   "source": [
    "## Feature Engineering "
   ]
  },
  {
   "cell_type": "code",
   "execution_count": 10,
   "id": "85c464f4",
   "metadata": {},
   "outputs": [],
   "source": [
    "dfe = df.copy()"
   ]
  },
  {
   "cell_type": "code",
   "execution_count": 11,
   "id": "9bcc43d0",
   "metadata": {},
   "outputs": [
    {
     "name": "stdout",
     "output_type": "stream",
     "text": [
      "<class 'pandas.core.frame.DataFrame'>\n",
      "RangeIndex: 965 entries, 0 to 964\n",
      "Data columns (total 6 columns):\n",
      " #   Column      Non-Null Count  Dtype \n",
      "---  ------      --------------  ----- \n",
      " 0   Unnamed: 0  965 non-null    int64 \n",
      " 1   PRICE       965 non-null    int64 \n",
      " 2   BED         965 non-null    int64 \n",
      " 3   BATH        965 non-null    int64 \n",
      " 4   SIZE        965 non-null    int64 \n",
      " 5   DISTRICT    958 non-null    object\n",
      "dtypes: int64(5), object(1)\n",
      "memory usage: 45.4+ KB\n"
     ]
    }
   ],
   "source": [
    "dfe.info()"
   ]
  },
  {
   "cell_type": "code",
   "execution_count": 12,
   "id": "a5520fda",
   "metadata": {},
   "outputs": [],
   "source": [
    "dfe.dropna(inplace=True)"
   ]
  },
  {
   "cell_type": "code",
   "execution_count": 13,
   "id": "6755033c",
   "metadata": {},
   "outputs": [],
   "source": [
    "dfe.drop(['Unnamed: 0'], axis = 1, inplace = True)"
   ]
  },
  {
   "cell_type": "code",
   "execution_count": 14,
   "id": "f32813fc",
   "metadata": {},
   "outputs": [
    {
     "data": {
      "image/png": "[encoded data removed]",
      "text/plain": [
       "<Figure size 864x432 with 2 Axes>"
      ]
     },
     "metadata": {},
     "output_type": "display_data"
    }
   ],
   "source": [
    "# Checking features correlation\n",
    "plt.figure(figsize=(12, 6))\n",
    "heatmap = sns.heatmap(dfe.corr(), vmin=-1, vmax=1, annot=True,cmap='seismic')\n",
    "heatmap.set_title('Correlation Heatmap', fontdict={'fontsize':12}, pad=12);\n",
    "plt.show() "
   ]
  },
  {
   "cell_type": "markdown",
   "id": "5dce49cd",
   "metadata": {},
   "source": [
    "From the Graph we noticed the relations between columns"
   ]
  },
  {
   "cell_type": "code",
   "execution_count": 15,
   "id": "3bda5772",
   "metadata": {},
   "outputs": [
    {
     "data": {
      "text/html": [
       "<div>\n",
       "<style scoped>\n",
       "    .dataframe tbody tr th:only-of-type {\n",
       "        vertical-align: middle;\n",
       "    }\n",
       "\n",
       "    .dataframe tbody tr th {\n",
       "        vertical-align: top;\n",
       "    }\n",
       "\n",
       "    .dataframe thead th {\n",
       "        text-align: right;\n",
       "    }\n",
       "</style>\n",
       "<table border=\"1\" class=\"dataframe\">\n",
       "  <thead>\n",
       "    <tr style=\"text-align: right;\">\n",
       "      <th></th>\n",
       "      <th>PRICE</th>\n",
       "      <th>BED</th>\n",
       "      <th>BATH</th>\n",
       "      <th>SIZE</th>\n",
       "      <th>DISTRICT</th>\n",
       "    </tr>\n",
       "  </thead>\n",
       "  <tbody>\n",
       "    <tr>\n",
       "      <th>0</th>\n",
       "      <td>3000000</td>\n",
       "      <td>5</td>\n",
       "      <td>4</td>\n",
       "      <td>1100</td>\n",
       "      <td>الخليج</td>\n",
       "    </tr>\n",
       "    <tr>\n",
       "      <th>1</th>\n",
       "      <td>4930000</td>\n",
       "      <td>5</td>\n",
       "      <td>4</td>\n",
       "      <td>1030</td>\n",
       "      <td>الرمال</td>\n",
       "    </tr>\n",
       "    <tr>\n",
       "      <th>2</th>\n",
       "      <td>780000</td>\n",
       "      <td>5</td>\n",
       "      <td>4</td>\n",
       "      <td>455</td>\n",
       "      <td>الدار البيضاء</td>\n",
       "    </tr>\n",
       "    <tr>\n",
       "      <th>3</th>\n",
       "      <td>880000</td>\n",
       "      <td>5</td>\n",
       "      <td>4</td>\n",
       "      <td>375</td>\n",
       "      <td>النسيم الغربي</td>\n",
       "    </tr>\n",
       "    <tr>\n",
       "      <th>4</th>\n",
       "      <td>1800000</td>\n",
       "      <td>5</td>\n",
       "      <td>5</td>\n",
       "      <td>800</td>\n",
       "      <td>طويق</td>\n",
       "    </tr>\n",
       "  </tbody>\n",
       "</table>\n",
       "</div>"
      ],
      "text/plain": [
       "     PRICE  BED  BATH  SIZE       DISTRICT\n",
       "0  3000000    5     4  1100         الخليج\n",
       "1  4930000    5     4  1030         الرمال\n",
       "2   780000    5     4   455  الدار البيضاء\n",
       "3   880000    5     4   375  النسيم الغربي\n",
       "4  1800000    5     5   800           طويق"
      ]
     },
     "execution_count": 15,
     "metadata": {},
     "output_type": "execute_result"
    }
   ],
   "source": [
    "dfe.head()"
   ]
  },
  {
   "cell_type": "code",
   "execution_count": 16,
   "id": "d863ff04",
   "metadata": {},
   "outputs": [],
   "source": [
    "# split into train and target\n",
    "X,y = dfe.iloc[:,1:],dfe['PRICE']"
   ]
  },
  {
   "cell_type": "code",
   "execution_count": 17,
   "id": "df6d5367",
   "metadata": {},
   "outputs": [
    {
     "name": "stdout",
     "output_type": "stream",
     "text": [
      "<class 'pandas.core.frame.DataFrame'>\n",
      "Int64Index: 958 entries, 0 to 964\n",
      "Data columns (total 4 columns):\n",
      " #   Column    Non-Null Count  Dtype \n",
      "---  ------    --------------  ----- \n",
      " 0   BED       958 non-null    int64 \n",
      " 1   BATH      958 non-null    int64 \n",
      " 2   SIZE      958 non-null    int64 \n",
      " 3   DISTRICT  958 non-null    object\n",
      "dtypes: int64(3), object(1)\n",
      "memory usage: 37.4+ KB\n"
     ]
    }
   ],
   "source": [
    "X.info()"
   ]
  },
  {
   "cell_type": "code",
   "execution_count": 18,
   "id": "110f14c7",
   "metadata": {},
   "outputs": [
    {
     "data": {
      "text/plain": [
       "False    46\n",
       "True     35\n",
       "Name: DISTRICT, dtype: int64"
      ]
     },
     "execution_count": 18,
     "metadata": {},
     "output_type": "execute_result"
    }
   ],
   "source": [
    "nbh_counts = dfe.DISTRICT.value_counts()\n",
    "(nbh_counts >5).value_counts()"
   ]
  },
  {
   "cell_type": "code",
   "execution_count": 19,
   "id": "f22ee5c3",
   "metadata": {},
   "outputs": [
    {
     "data": {
      "text/plain": [
       "منفوحة           106\n",
       "اخرى              89\n",
       "طويق              88\n",
       "الندوة            57\n",
       "الرمال            39\n",
       "النسيم الغربي     37\n",
       "السعادة           34\n",
       "الخالدية          32\n",
       "الخليج            32\n",
       "الصالحية          27\n",
       "البديعة           26\n",
       "اليمامة           26\n",
       "الدار البيضاء     26\n",
       "عتيقة             25\n",
       "غبيرة             23\n",
       "العزيزية          21\n",
       "الملز             20\n",
       "ظهرة لبن          19\n",
       "بدر               19\n",
       "العريجاء          18\n",
       "الفيحاء           17\n",
       "الاندلس           16\n",
       "المروة            15\n",
       "العيينة           15\n",
       "النظيم            15\n",
       "الفوطة            15\n",
       "أحد               14\n",
       "الديرة            13\n",
       "الجرادية          13\n",
       "الشميسي           13\n",
       "الحائر            10\n",
       "ام سليم            8\n",
       "المرقب             8\n",
       "الشرق              8\n",
       "السويدي            7\n",
       "ديراب              7\n",
       "Name: DISTRICT, dtype: int64"
      ]
     },
     "execution_count": 19,
     "metadata": {},
     "output_type": "execute_result"
    }
   ],
   "source": [
    "other_nbhs = list(nbh_counts[nbh_counts <= 5].index)\n",
    "\n",
    "dfe['DISTRICT']= dfe['DISTRICT'].replace(other_nbhs, 'اخرى')\n",
    "dfe.DISTRICT.value_counts()"
   ]
  },
  {
   "cell_type": "code",
   "execution_count": 20,
   "id": "b92d06da",
   "metadata": {},
   "outputs": [
    {
     "name": "stdout",
     "output_type": "stream",
     "text": [
      "<class 'pandas.core.frame.DataFrame'>\n",
      "Int64Index: 958 entries, 0 to 964\n",
      "Data columns (total 39 columns):\n",
      " #   Column                  Non-Null Count  Dtype\n",
      "---  ------                  --------------  -----\n",
      " 0   PRICE                   958 non-null    int64\n",
      " 1   BED                     958 non-null    int64\n",
      " 2   BATH                    958 non-null    int64\n",
      " 3   SIZE                    958 non-null    int64\n",
      " 4   DISTRICT_أحد            958 non-null    uint8\n",
      " 5   DISTRICT_اخرى           958 non-null    uint8\n",
      " 6   DISTRICT_الاندلس        958 non-null    uint8\n",
      " 7   DISTRICT_البديعة        958 non-null    uint8\n",
      " 8   DISTRICT_الجرادية       958 non-null    uint8\n",
      " 9   DISTRICT_الخالدية       958 non-null    uint8\n",
      " 10  DISTRICT_الخليج         958 non-null    uint8\n",
      " 11  DISTRICT_الدار البيضاء  958 non-null    uint8\n",
      " 12  DISTRICT_الديرة         958 non-null    uint8\n",
      " 13  DISTRICT_الرمال         958 non-null    uint8\n",
      " 14  DISTRICT_السعادة        958 non-null    uint8\n",
      " 15  DISTRICT_السويدي        958 non-null    uint8\n",
      " 16  DISTRICT_الشرق          958 non-null    uint8\n",
      " 17  DISTRICT_الشميسي        958 non-null    uint8\n",
      " 18  DISTRICT_الصالحية       958 non-null    uint8\n",
      " 19  DISTRICT_العريجاء       958 non-null    uint8\n",
      " 20  DISTRICT_العزيزية       958 non-null    uint8\n",
      " 21  DISTRICT_العيينة        958 non-null    uint8\n",
      " 22  DISTRICT_الفوطة         958 non-null    uint8\n",
      " 23  DISTRICT_الفيحاء        958 non-null    uint8\n",
      " 24  DISTRICT_المرقب         958 non-null    uint8\n",
      " 25  DISTRICT_المروة         958 non-null    uint8\n",
      " 26  DISTRICT_الملز          958 non-null    uint8\n",
      " 27  DISTRICT_الندوة         958 non-null    uint8\n",
      " 28  DISTRICT_النسيم الغربي  958 non-null    uint8\n",
      " 29  DISTRICT_النظيم         958 non-null    uint8\n",
      " 30  DISTRICT_اليمامة        958 non-null    uint8\n",
      " 31  DISTRICT_ام سليم        958 non-null    uint8\n",
      " 32  DISTRICT_بدر            958 non-null    uint8\n",
      " 33  DISTRICT_ديراب          958 non-null    uint8\n",
      " 34  DISTRICT_طويق           958 non-null    uint8\n",
      " 35  DISTRICT_ظهرة لبن       958 non-null    uint8\n",
      " 36  DISTRICT_عتيقة          958 non-null    uint8\n",
      " 37  DISTRICT_غبيرة          958 non-null    uint8\n",
      " 38  DISTRICT_منفوحة         958 non-null    uint8\n",
      "dtypes: int64(4), uint8(35)\n",
      "memory usage: 70.2 KB\n"
     ]
    }
   ],
   "source": [
    "dfe = pd.get_dummies(dfe, columns = ['DISTRICT'])\n",
    "dfe.drop(['DISTRICT_الحائر'], axis = 1, inplace = True)\n",
    "dfe.info()"
   ]
  },
  {
   "cell_type": "markdown",
   "id": "f458193f",
   "metadata": {},
   "source": [
    "## Modeling"
   ]
  },
  {
   "cell_type": "code",
   "execution_count": 21,
   "id": "8ce76f7f",
   "metadata": {},
   "outputs": [],
   "source": [
    "X,y = dfe.iloc[:,1:],dfe['PRICE']"
   ]
  },
  {
   "cell_type": "code",
   "execution_count": 22,
   "id": "03255ab3",
   "metadata": {},
   "outputs": [],
   "source": [
    "model = LinearRegression()"
   ]
  },
  {
   "cell_type": "code",
   "execution_count": 23,
   "id": "351c0fbc",
   "metadata": {},
   "outputs": [],
   "source": [
    "def split_and_validate(X, y):\n",
    "    '''\n",
    "    For a set of features and target X, y, perform a 80/20 train/val split, \n",
    "    fit and validate a linear regression model, and report results\n",
    "    '''\n",
    "\n",
    "     # perform train/val split\n",
    "    X_train, X_test, y_train, y_test = \\\n",
    "    train_test_split(X, y, test_size=0.20, random_state=24) # \"= \\ to coinsder this line with the above one\"\n",
    "    \n",
    "    # fit linear regression to training data\n",
    "    lr_model = LinearRegression() \n",
    "    lr_model.fit(X_train, y_train)\n",
    "    model=lr_model\n",
    "    \n",
    "    # fit Ridge regression \n",
    "    scaler = StandardScaler()\n",
    "    X_scaled = scaler.fit_transform(X)\n",
    "    X_test_scaled = scaler.transform(X_test)\n",
    "\n",
    "    lm_reg = Ridge(alpha=2)\n",
    "    lm_reg.fit(X_scaled,y)\n",
    "\n",
    "\n",
    "    \n",
    "    # score fit model on validation data\n",
    "    val_score_linear = cross_val_score(lr_model, X, y, cv = 5).mean()\n",
    "    val_score_rid = cross_val_score(lm_reg, X, y, cv = 5).mean()\n",
    "    \n",
    "    # report results\n",
    "\n",
    "    print(f'Linear Regression test R^2: {lr_model.score(X_test, y_test):.3f}')\n",
    "    print('\\nCross Validation for Linear model score was:', val_score_linear)\n",
    "#     X_poly_test = poly_reg.fit_transform(X_test)\n",
    "    print(f'\\nRidge Regression test R^2: {lm_reg.score(X_test_scaled, y_test):.3f}')\n",
    "#     print(X_poly_test)\n",
    "    print('\\nCross Validation for Ridge model was score was:', val_score_rid)\n",
    "#     print('Feature coefficient results: \\n')\n",
    "#     for feature, coef in zip(X.columns, lr_model.coef_):\n",
    "#         print(feature, ':', f'{coef:.2f}') # \"means 2 decimal points\""
   ]
  },
  {
   "cell_type": "code",
   "execution_count": 24,
   "id": "96a20bce",
   "metadata": {
    "scrolled": true
   },
   "outputs": [
    {
     "name": "stdout",
     "output_type": "stream",
     "text": [
      "Linear Regression test R^2: 0.793\n",
      "\n",
      "Cross Validation for Linear model score was: 0.7678021535973024\n",
      "\n",
      "Ridge Regression test R^2: 0.820\n",
      "\n",
      "Cross Validation for Ridge model was score was: 0.7575188216753838\n"
     ]
    }
   ],
   "source": [
    "split_and_validate(X,y)"
   ]
  },
  {
   "cell_type": "code",
   "execution_count": 25,
   "id": "c6e77f05",
   "metadata": {},
   "outputs": [],
   "source": [
    "X2 = X.copy()\n",
    "\n",
    "X2['BED2'] = X2['BED'] ** 2 # \"adding quadratic terms to the data frame\"\n",
    "X2['BATH2'] = X2['BATH'] ** 2"
   ]
  },
  {
   "cell_type": "code",
   "execution_count": 26,
   "id": "17c580ab",
   "metadata": {},
   "outputs": [
    {
     "name": "stdout",
     "output_type": "stream",
     "text": [
      "Linear Regression test R^2: 0.793\n",
      "\n",
      "Cross Validation for Linear model score was: 0.7681041466165472\n",
      "\n",
      "Ridge Regression test R^2: 0.820\n",
      "\n",
      "Cross Validation for Ridge model was score was: 0.7557770192018748\n"
     ]
    }
   ],
   "source": [
    "split_and_validate(X2,y)"
   ]
  },
  {
   "cell_type": "code",
   "execution_count": 27,
   "id": "602385b1",
   "metadata": {},
   "outputs": [],
   "source": [
    "X3 = X2.copy()\n",
    "\n",
    "# division interaction\n",
    "X3['SIZE/BED'] = X3['SIZE'] / X3['BED']"
   ]
  },
  {
   "cell_type": "code",
   "execution_count": 28,
   "id": "a646fecc",
   "metadata": {},
   "outputs": [
    {
     "name": "stdout",
     "output_type": "stream",
     "text": [
      "Linear Regression test R^2: 0.792\n",
      "\n",
      "Cross Validation for Linear model score was: 0.7594178830235617\n",
      "\n",
      "Ridge Regression test R^2: 0.819\n",
      "\n",
      "Cross Validation for Ridge model was score was: 0.7511821156639161\n"
     ]
    }
   ],
   "source": [
    "split_and_validate(X3,y)"
   ]
  },
  {
   "cell_type": "code",
   "execution_count": 29,
   "id": "32fa46b9",
   "metadata": {},
   "outputs": [
    {
     "name": "stdout",
     "output_type": "stream",
     "text": [
      "Linear Regression test R^2: 0.692\n",
      "\n",
      "Cross Validation for Linear model score was: 0.5124000100581959\n",
      "\n",
      "Ridge Regression test R^2: 0.715\n",
      "\n",
      "Cross Validation for Ridge model was score was: 0.5123955133455894\n"
     ]
    }
   ],
   "source": [
    "df.dropna(inplace=True)\n",
    "X4 =df.iloc[:,2:5]\n",
    "split_and_validate(X4,y)"
   ]
  },
  {
   "cell_type": "code",
   "execution_count": 30,
   "id": "1c682082",
   "metadata": {},
   "outputs": [],
   "source": [
    "X5 = X2.copy()\n",
    "\n",
    "X5['SIZE2'] = X2['SIZE'] ** 2 # \"adding quadratic terms to the data frame\""
   ]
  },
  {
   "cell_type": "code",
   "execution_count": 31,
   "id": "7394d476",
   "metadata": {},
   "outputs": [
    {
     "name": "stdout",
     "output_type": "stream",
     "text": [
      "Linear Regression test R^2: 0.833\n",
      "\n",
      "Cross Validation for Linear model score was: 0.8103161794208258\n",
      "\n",
      "Ridge Regression test R^2: 0.842\n",
      "\n",
      "Cross Validation for Ridge model was score was: 0.8175526160253886\n"
     ]
    }
   ],
   "source": [
    "split_and_validate(X5,y)"
   ]
  },
  {
   "cell_type": "markdown",
   "id": "68ed8bcb",
   "metadata": {},
   "source": [
    "> 1- So we found out at `X2` is the same score for both models.<br>\n",
    "\n",
    "> 2- `X3` the score was less by 0.01 for both models.<br>\n",
    "\n",
    "> 3- In `X4` the score was less by 0.20 for both models and CV score just 0.51 so it is the worst model of them.<br>\n",
    "\n",
    "> 4- But at `X5` we has increasd the score of the model from 0.73 to 0.833 and cv from 0.76 to 0.81 for linear and for Ridge Regression scored 0.842 and CV 0.818 so it is the best model we can achieve "
   ]
  },
  {
   "cell_type": "markdown",
   "id": "8e03aedd",
   "metadata": {},
   "source": [
    "## Assumptions"
   ]
  },
  {
   "cell_type": "markdown",
   "id": "50d82301",
   "metadata": {},
   "source": [
    "### Assumption 1: regression is linear in parameters and correctly specified"
   ]
  },
  {
   "cell_type": "code",
   "execution_count": 32,
   "id": "b6c93081",
   "metadata": {},
   "outputs": [],
   "source": [
    "def diagnostic_plot(x, y):\n",
    "    plt.figure(figsize=(20,5))\n",
    "    \n",
    "    rgr = LinearRegression()\n",
    "    rgr.fit(x,y)\n",
    "    pred = rgr.predict(x) # \"regression prediction\"\n",
    "\n",
    "    plt.subplot(1, 3, 1)\n",
    "    plt.scatter(x,y) # \"scatter\"\n",
    "    plt.plot(x, pred, color='blue',linewidth=1)\n",
    "    plt.title(\"Regression fit\")\n",
    "    plt.xlabel(\"x\")\n",
    "    plt.ylabel(\"y\")\n",
    "    \n",
    "    plt.subplot(1, 3, 2)\n",
    "    res = y - pred\n",
    "    plt.scatter(pred, res) # \"scatter supposed to have no pattern\"\n",
    "    plt.title(\"Residual plot\")\n",
    "    plt.xlabel(\"prediction\")\n",
    "    plt.ylabel(\"residuals\")\n",
    "    \n",
    "    plt.subplot(1, 3, 3)\n",
    "    #Generates a probability plot of sample data against the quantiles of a \n",
    "    # specified theoretical distribution \n",
    "    stats.probplot(res, dist=\"norm\", plot=plt) # \"normal qq plot\"\n",
    "    plt.title(\"Normal Q-Q plot\")"
   ]
  },
  {
   "cell_type": "code",
   "execution_count": 33,
   "id": "0b868f3a",
   "metadata": {},
   "outputs": [],
   "source": [
    "# Generate fake data\n",
    "s = 500\n",
    "x = np.random.uniform(low=-5, high=5, size=s)"
   ]
  },
  {
   "cell_type": "code",
   "execution_count": 34,
   "id": "9de2a401",
   "metadata": {},
   "outputs": [
    {
     "data": {
      "image/png": "[encoded data removed]",
      "text/plain": [
       "<Figure size 1440x360 with 3 Axes>"
      ]
     },
     "metadata": {},
     "output_type": "display_data"
    }
   ],
   "source": [
    "epsilon = 2*np.random.randn(s)\n",
    "beta = 2\n",
    "y1 = beta*x + epsilon\n",
    "\n",
    "diagnostic_plot(x.reshape(s,1), y1) # we reshape x to turn it into a tall column"
   ]
  },
  {
   "cell_type": "markdown",
   "id": "5ac176e0",
   "metadata": {},
   "source": [
    "### Assumption 2: residuals ( ${e_i} = Y_i-\\hat{Y}_i$ ) should be normally distributed with zero mean"
   ]
  },
  {
   "cell_type": "code",
   "execution_count": 35,
   "id": "b0af292f",
   "metadata": {},
   "outputs": [],
   "source": [
    "lr = LinearRegression()\n",
    "fit = lr.fit(X5,y) # for later use"
   ]
  },
  {
   "cell_type": "code",
   "execution_count": 36,
   "id": "e213dcde",
   "metadata": {},
   "outputs": [
    {
     "name": "stderr",
     "output_type": "stream",
     "text": [
      "*c* argument looks like a single numeric RGB or RGBA sequence, which should be avoided as value-mapping will have precedence in case its length matches with *x* & *y*.  Please use the *color* keyword-argument or provide a 2-D array with a single row if you intend to specify the same RGB or RGBA value for all points.\n"
     ]
    },
    {
     "data": {
      "image/png": "[encoded data removed]",
      "text/plain": [
       "<Figure size 720x432 with 1 Axes>"
      ]
     },
     "metadata": {},
     "output_type": "display_data"
    }
   ],
   "source": [
    "# Plot your predicted values on the x-axis, and your residuals on the y-axis\n",
    "\n",
    "dfe['predict']=fit.predict(X5)\n",
    "dfe['resid']=dfe.PRICE-dfe.predict # \"residuals\"\n",
    "with sns.axes_style('dark'):\n",
    "    plot=dfe.plot(kind='scatter',\n",
    "                  x='predict',y='resid',alpha=0.5,figsize=(10,6))"
   ]
  },
  {
   "cell_type": "code",
   "execution_count": 37,
   "id": "8dbc5b85",
   "metadata": {
    "scrolled": true
   },
   "outputs": [
    {
     "data": {
      "image/png": "[encoded data removed]",
      "text/plain": [
       "<Figure size 432x288 with 1 Axes>"
      ]
     },
     "metadata": {},
     "output_type": "display_data"
    }
   ],
   "source": [
    "dfe.PRICE.hist(bins=20)\n",
    "plt.title('Histogram of Dependent Variable (PRICE)');"
   ]
  },
  {
   "cell_type": "code",
   "execution_count": 38,
   "id": "376b4058",
   "metadata": {},
   "outputs": [
    {
     "data": {
      "image/png": "[encoded data removed]",
      "text/plain": [
       "<Figure size 432x288 with 1 Axes>"
      ]
     },
     "metadata": {},
     "output_type": "display_data"
    }
   ],
   "source": [
    "# diagnose/inspect residual normality using qqplot:\n",
    "stats.probplot(dfe['resid'], dist=\"norm\", plot=plt)\n",
    "plt.title(\"Normal Q-Q plot\")\n",
    "plt.show()"
   ]
  },
  {
   "cell_type": "markdown",
   "id": "0d3c6298",
   "metadata": {},
   "source": [
    "### Assumption 3: error terms must have constant variance"
   ]
  },
  {
   "cell_type": "code",
   "execution_count": 42,
   "id": "995f0094",
   "metadata": {},
   "outputs": [
    {
     "data": {
      "text/html": [
       "<table class=\"simpletable\">\n",
       "<caption>OLS Regression Results</caption>\n",
       "<tr>\n",
       "  <th>Dep. Variable:</th>          <td>PRICE</td>      <th>  R-squared (uncentered):</th>      <td>   0.919</td> \n",
       "</tr>\n",
       "<tr>\n",
       "  <th>Model:</th>                   <td>OLS</td>       <th>  Adj. R-squared (uncentered):</th> <td>   0.916</td> \n",
       "</tr>\n",
       "<tr>\n",
       "  <th>Method:</th>             <td>Least Squares</td>  <th>  F-statistic:       </th>          <td>   254.6</td> \n",
       "</tr>\n",
       "<tr>\n",
       "  <th>Date:</th>             <td>Sun, 26 Sep 2021</td> <th>  Prob (F-statistic):</th>           <td>  0.00</td>  \n",
       "</tr>\n",
       "<tr>\n",
       "  <th>Time:</th>                 <td>01:14:25</td>     <th>  Log-Likelihood:    </th>          <td> -13796.</td> \n",
       "</tr>\n",
       "<tr>\n",
       "  <th>No. Observations:</th>      <td>   958</td>      <th>  AIC:               </th>          <td>2.767e+04</td>\n",
       "</tr>\n",
       "<tr>\n",
       "  <th>Df Residuals:</th>          <td>   917</td>      <th>  BIC:               </th>          <td>2.787e+04</td>\n",
       "</tr>\n",
       "<tr>\n",
       "  <th>Df Model:</th>              <td>    41</td>      <th>                     </th>              <td> </td>    \n",
       "</tr>\n",
       "<tr>\n",
       "  <th>Covariance Type:</th>      <td>nonrobust</td>    <th>                     </th>              <td> </td>    \n",
       "</tr>\n",
       "</table>\n",
       "<table class=\"simpletable\">\n",
       "<tr>\n",
       "             <td></td>               <th>coef</th>     <th>std err</th>      <th>t</th>      <th>P>|t|</th>  <th>[0.025</th>    <th>0.975]</th>  \n",
       "</tr>\n",
       "<tr>\n",
       "  <th>BED</th>                    <td>-3.258e+05</td> <td> 1.03e+05</td> <td>   -3.153</td> <td> 0.002</td> <td>-5.29e+05</td> <td>-1.23e+05</td>\n",
       "</tr>\n",
       "<tr>\n",
       "  <th>BATH</th>                   <td> 5.671e+04</td> <td> 1.04e+05</td> <td>    0.547</td> <td> 0.585</td> <td>-1.47e+05</td> <td>  2.6e+05</td>\n",
       "</tr>\n",
       "<tr>\n",
       "  <th>SIZE</th>                   <td> 3100.7700</td> <td>  108.800</td> <td>   28.500</td> <td> 0.000</td> <td> 2887.243</td> <td> 3314.297</td>\n",
       "</tr>\n",
       "<tr>\n",
       "  <th>DISTRICT_أحد</th>           <td> 1.975e+05</td> <td> 1.72e+05</td> <td>    1.149</td> <td> 0.251</td> <td> -1.4e+05</td> <td> 5.35e+05</td>\n",
       "</tr>\n",
       "<tr>\n",
       "  <th>DISTRICT_اخرى</th>          <td> 7.519e+05</td> <td> 1.27e+05</td> <td>    5.926</td> <td> 0.000</td> <td> 5.03e+05</td> <td>    1e+06</td>\n",
       "</tr>\n",
       "<tr>\n",
       "  <th>DISTRICT_الاندلس</th>       <td> 3.676e+05</td> <td> 1.62e+05</td> <td>    2.270</td> <td> 0.023</td> <td> 4.97e+04</td> <td> 6.85e+05</td>\n",
       "</tr>\n",
       "<tr>\n",
       "  <th>DISTRICT_البديعة</th>       <td>-2.577e+04</td> <td> 1.39e+05</td> <td>   -0.186</td> <td> 0.853</td> <td>-2.98e+05</td> <td> 2.47e+05</td>\n",
       "</tr>\n",
       "<tr>\n",
       "  <th>DISTRICT_الجرادية</th>      <td> 1.278e+05</td> <td> 1.72e+05</td> <td>    0.743</td> <td> 0.457</td> <td> -2.1e+05</td> <td> 4.65e+05</td>\n",
       "</tr>\n",
       "<tr>\n",
       "  <th>DISTRICT_الخالدية</th>      <td>  2.65e+05</td> <td> 1.47e+05</td> <td>    1.801</td> <td> 0.072</td> <td>-2.38e+04</td> <td> 5.54e+05</td>\n",
       "</tr>\n",
       "<tr>\n",
       "  <th>DISTRICT_الخليج</th>        <td> 5.719e+05</td> <td> 1.58e+05</td> <td>    3.609</td> <td> 0.000</td> <td> 2.61e+05</td> <td> 8.83e+05</td>\n",
       "</tr>\n",
       "<tr>\n",
       "  <th>DISTRICT_الدار البيضاء</th> <td>-6.504e+04</td> <td> 1.49e+05</td> <td>   -0.436</td> <td> 0.663</td> <td>-3.58e+05</td> <td> 2.28e+05</td>\n",
       "</tr>\n",
       "<tr>\n",
       "  <th>DISTRICT_الديرة</th>        <td> 4.416e+06</td> <td> 1.83e+05</td> <td>   24.193</td> <td> 0.000</td> <td> 4.06e+06</td> <td> 4.77e+06</td>\n",
       "</tr>\n",
       "<tr>\n",
       "  <th>DISTRICT_الرمال</th>        <td> 1.288e+06</td> <td>  1.5e+05</td> <td>    8.586</td> <td> 0.000</td> <td> 9.94e+05</td> <td> 1.58e+06</td>\n",
       "</tr>\n",
       "<tr>\n",
       "  <th>DISTRICT_السعادة</th>       <td> 3.706e+05</td> <td> 1.46e+05</td> <td>    2.547</td> <td> 0.011</td> <td>  8.5e+04</td> <td> 6.56e+05</td>\n",
       "</tr>\n",
       "<tr>\n",
       "  <th>DISTRICT_السويدي</th>       <td> 1.411e+05</td> <td> 2.07e+05</td> <td>    0.683</td> <td> 0.495</td> <td>-2.64e+05</td> <td> 5.47e+05</td>\n",
       "</tr>\n",
       "<tr>\n",
       "  <th>DISTRICT_الشرق</th>         <td> 3.136e+05</td> <td>    2e+05</td> <td>    1.566</td> <td> 0.118</td> <td>-7.95e+04</td> <td> 7.07e+05</td>\n",
       "</tr>\n",
       "<tr>\n",
       "  <th>DISTRICT_الشميسي</th>       <td> 1.496e+05</td> <td>  1.7e+05</td> <td>    0.878</td> <td> 0.380</td> <td>-1.85e+05</td> <td> 4.84e+05</td>\n",
       "</tr>\n",
       "<tr>\n",
       "  <th>DISTRICT_الصالحية</th>      <td>  9.52e+04</td> <td> 1.46e+05</td> <td>    0.654</td> <td> 0.513</td> <td> -1.9e+05</td> <td> 3.81e+05</td>\n",
       "</tr>\n",
       "<tr>\n",
       "  <th>DISTRICT_العريجاء</th>      <td>  1.04e+05</td> <td> 1.58e+05</td> <td>    0.660</td> <td> 0.510</td> <td>-2.05e+05</td> <td> 4.13e+05</td>\n",
       "</tr>\n",
       "<tr>\n",
       "  <th>DISTRICT_العزيزية</th>      <td>-2.276e+05</td> <td> 1.55e+05</td> <td>   -1.471</td> <td> 0.142</td> <td>-5.31e+05</td> <td>  7.6e+04</td>\n",
       "</tr>\n",
       "<tr>\n",
       "  <th>DISTRICT_العيينة</th>       <td> 3.404e+05</td> <td> 1.73e+05</td> <td>    1.968</td> <td> 0.049</td> <td>  977.202</td> <td>  6.8e+05</td>\n",
       "</tr>\n",
       "<tr>\n",
       "  <th>DISTRICT_الفوطة</th>        <td>  8.46e+04</td> <td> 1.42e+05</td> <td>    0.596</td> <td> 0.551</td> <td>-1.94e+05</td> <td> 3.63e+05</td>\n",
       "</tr>\n",
       "<tr>\n",
       "  <th>DISTRICT_الفيحاء</th>       <td>-2.612e+05</td> <td> 1.67e+05</td> <td>   -1.562</td> <td> 0.119</td> <td>-5.89e+05</td> <td>  6.7e+04</td>\n",
       "</tr>\n",
       "<tr>\n",
       "  <th>DISTRICT_المرقب</th>        <td> 2.747e+04</td> <td> 1.94e+05</td> <td>    0.142</td> <td> 0.887</td> <td>-3.52e+05</td> <td> 4.07e+05</td>\n",
       "</tr>\n",
       "<tr>\n",
       "  <th>DISTRICT_المروة</th>        <td> 1.044e+06</td> <td>  1.8e+05</td> <td>    5.811</td> <td> 0.000</td> <td> 6.92e+05</td> <td>  1.4e+06</td>\n",
       "</tr>\n",
       "<tr>\n",
       "  <th>DISTRICT_الملز</th>         <td> 2.798e+05</td> <td> 1.62e+05</td> <td>    1.725</td> <td> 0.085</td> <td>-3.86e+04</td> <td> 5.98e+05</td>\n",
       "</tr>\n",
       "<tr>\n",
       "  <th>DISTRICT_الندوة</th>        <td> 2.921e+05</td> <td>  1.5e+05</td> <td>    1.954</td> <td> 0.051</td> <td>-1346.966</td> <td> 5.85e+05</td>\n",
       "</tr>\n",
       "<tr>\n",
       "  <th>DISTRICT_النسيم الغربي</th> <td> 5.002e+04</td> <td> 1.42e+05</td> <td>    0.352</td> <td> 0.725</td> <td>-2.29e+05</td> <td> 3.29e+05</td>\n",
       "</tr>\n",
       "<tr>\n",
       "  <th>DISTRICT_النظيم</th>        <td>   3.4e+05</td> <td> 1.76e+05</td> <td>    1.936</td> <td> 0.053</td> <td>-4602.356</td> <td> 6.85e+05</td>\n",
       "</tr>\n",
       "<tr>\n",
       "  <th>DISTRICT_اليمامة</th>       <td> 4.676e+04</td> <td> 1.49e+05</td> <td>    0.313</td> <td> 0.754</td> <td>-2.46e+05</td> <td>  3.4e+05</td>\n",
       "</tr>\n",
       "<tr>\n",
       "  <th>DISTRICT_ام سليم</th>       <td> 2.141e+05</td> <td> 1.93e+05</td> <td>    1.110</td> <td> 0.267</td> <td>-1.64e+05</td> <td> 5.93e+05</td>\n",
       "</tr>\n",
       "<tr>\n",
       "  <th>DISTRICT_بدر</th>           <td>-5.039e+04</td> <td> 1.57e+05</td> <td>   -0.321</td> <td> 0.748</td> <td>-3.58e+05</td> <td> 2.57e+05</td>\n",
       "</tr>\n",
       "<tr>\n",
       "  <th>DISTRICT_ديراب</th>         <td>-1.574e+05</td> <td> 2.15e+05</td> <td>   -0.732</td> <td> 0.464</td> <td>-5.79e+05</td> <td> 2.64e+05</td>\n",
       "</tr>\n",
       "<tr>\n",
       "  <th>DISTRICT_طويق</th>          <td> 2.572e+05</td> <td> 1.32e+05</td> <td>    1.944</td> <td> 0.052</td> <td>-2459.988</td> <td> 5.17e+05</td>\n",
       "</tr>\n",
       "<tr>\n",
       "  <th>DISTRICT_ظهرة لبن</th>      <td> 4.996e+05</td> <td> 1.57e+05</td> <td>    3.191</td> <td> 0.001</td> <td> 1.92e+05</td> <td> 8.07e+05</td>\n",
       "</tr>\n",
       "<tr>\n",
       "  <th>DISTRICT_عتيقة</th>         <td> 2.218e+05</td> <td> 1.51e+05</td> <td>    1.465</td> <td> 0.143</td> <td>-7.54e+04</td> <td> 5.19e+05</td>\n",
       "</tr>\n",
       "<tr>\n",
       "  <th>DISTRICT_غبيرة</th>         <td> 1.583e+05</td> <td>  1.5e+05</td> <td>    1.058</td> <td> 0.290</td> <td>-1.35e+05</td> <td> 4.52e+05</td>\n",
       "</tr>\n",
       "<tr>\n",
       "  <th>DISTRICT_منفوحة</th>        <td> 1.615e+05</td> <td>  1.3e+05</td> <td>    1.246</td> <td> 0.213</td> <td>-9.28e+04</td> <td> 4.16e+05</td>\n",
       "</tr>\n",
       "<tr>\n",
       "  <th>BED2</th>                   <td> 4.882e+04</td> <td> 1.41e+04</td> <td>    3.463</td> <td> 0.001</td> <td> 2.12e+04</td> <td> 7.65e+04</td>\n",
       "</tr>\n",
       "<tr>\n",
       "  <th>BATH2</th>                  <td>-8943.2652</td> <td>  1.5e+04</td> <td>   -0.594</td> <td> 0.552</td> <td>-3.85e+04</td> <td> 2.06e+04</td>\n",
       "</tr>\n",
       "<tr>\n",
       "  <th>SIZE2</th>                  <td>   -0.5140</td> <td>    0.032</td> <td>  -16.144</td> <td> 0.000</td> <td>   -0.576</td> <td>   -0.451</td>\n",
       "</tr>\n",
       "</table>\n",
       "<table class=\"simpletable\">\n",
       "<tr>\n",
       "  <th>Omnibus:</th>       <td>402.216</td> <th>  Durbin-Watson:     </th> <td>   1.988</td>\n",
       "</tr>\n",
       "<tr>\n",
       "  <th>Prob(Omnibus):</th> <td> 0.000</td>  <th>  Jarque-Bera (JB):  </th> <td>6975.106</td>\n",
       "</tr>\n",
       "<tr>\n",
       "  <th>Skew:</th>          <td> 1.461</td>  <th>  Prob(JB):          </th> <td>    0.00</td>\n",
       "</tr>\n",
       "<tr>\n",
       "  <th>Kurtosis:</th>      <td>15.892</td>  <th>  Cond. No.          </th> <td>4.68e+07</td>\n",
       "</tr>\n",
       "</table><br/><br/>Notes:<br/>[1] R² is computed without centering (uncentered) since the model does not contain a constant.<br/>[2] Standard Errors assume that the covariance matrix of the errors is correctly specified.<br/>[3] The condition number is large, 4.68e+07. This might indicate that there are<br/>strong multicollinearity or other numerical problems."
      ],
      "text/plain": [
       "<class 'statsmodels.iolib.summary.Summary'>\n",
       "\"\"\"\n",
       "                                 OLS Regression Results                                \n",
       "=======================================================================================\n",
       "Dep. Variable:                  PRICE   R-squared (uncentered):                   0.919\n",
       "Model:                            OLS   Adj. R-squared (uncentered):              0.916\n",
       "Method:                 Least Squares   F-statistic:                              254.6\n",
       "Date:                Sun, 26 Sep 2021   Prob (F-statistic):                        0.00\n",
       "Time:                        01:14:25   Log-Likelihood:                         -13796.\n",
       "No. Observations:                 958   AIC:                                  2.767e+04\n",
       "Df Residuals:                     917   BIC:                                  2.787e+04\n",
       "Df Model:                          41                                                  \n",
       "Covariance Type:            nonrobust                                                  \n",
       "==========================================================================================\n",
       "                             coef    std err          t      P>|t|      [0.025      0.975]\n",
       "------------------------------------------------------------------------------------------\n",
       "BED                    -3.258e+05   1.03e+05     -3.153      0.002   -5.29e+05   -1.23e+05\n",
       "BATH                    5.671e+04   1.04e+05      0.547      0.585   -1.47e+05     2.6e+05\n",
       "SIZE                    3100.7700    108.800     28.500      0.000    2887.243    3314.297\n",
       "DISTRICT_أحد            1.975e+05   1.72e+05      1.149      0.251    -1.4e+05    5.35e+05\n",
       "DISTRICT_اخرى           7.519e+05   1.27e+05      5.926      0.000    5.03e+05       1e+06\n",
       "DISTRICT_الاندلس        3.676e+05   1.62e+05      2.270      0.023    4.97e+04    6.85e+05\n",
       "DISTRICT_البديعة       -2.577e+04   1.39e+05     -0.186      0.853   -2.98e+05    2.47e+05\n",
       "DISTRICT_الجرادية       1.278e+05   1.72e+05      0.743      0.457    -2.1e+05    4.65e+05\n",
       "DISTRICT_الخالدية        2.65e+05   1.47e+05      1.801      0.072   -2.38e+04    5.54e+05\n",
       "DISTRICT_الخليج         5.719e+05   1.58e+05      3.609      0.000    2.61e+05    8.83e+05\n",
       "DISTRICT_الدار البيضاء -6.504e+04   1.49e+05     -0.436      0.663   -3.58e+05    2.28e+05\n",
       "DISTRICT_الديرة         4.416e+06   1.83e+05     24.193      0.000    4.06e+06    4.77e+06\n",
       "DISTRICT_الرمال         1.288e+06    1.5e+05      8.586      0.000    9.94e+05    1.58e+06\n",
       "DISTRICT_السعادة        3.706e+05   1.46e+05      2.547      0.011     8.5e+04    6.56e+05\n",
       "DISTRICT_السويدي        1.411e+05   2.07e+05      0.683      0.495   -2.64e+05    5.47e+05\n",
       "DISTRICT_الشرق          3.136e+05      2e+05      1.566      0.118   -7.95e+04    7.07e+05\n",
       "DISTRICT_الشميسي        1.496e+05    1.7e+05      0.878      0.380   -1.85e+05    4.84e+05\n",
       "DISTRICT_الصالحية        9.52e+04   1.46e+05      0.654      0.513    -1.9e+05    3.81e+05\n",
       "DISTRICT_العريجاء        1.04e+05   1.58e+05      0.660      0.510   -2.05e+05    4.13e+05\n",
       "DISTRICT_العزيزية      -2.276e+05   1.55e+05     -1.471      0.142   -5.31e+05     7.6e+04\n",
       "DISTRICT_العيينة        3.404e+05   1.73e+05      1.968      0.049     977.202     6.8e+05\n",
       "DISTRICT_الفوطة          8.46e+04   1.42e+05      0.596      0.551   -1.94e+05    3.63e+05\n",
       "DISTRICT_الفيحاء       -2.612e+05   1.67e+05     -1.562      0.119   -5.89e+05     6.7e+04\n",
       "DISTRICT_المرقب         2.747e+04   1.94e+05      0.142      0.887   -3.52e+05    4.07e+05\n",
       "DISTRICT_المروة         1.044e+06    1.8e+05      5.811      0.000    6.92e+05     1.4e+06\n",
       "DISTRICT_الملز          2.798e+05   1.62e+05      1.725      0.085   -3.86e+04    5.98e+05\n",
       "DISTRICT_الندوة         2.921e+05    1.5e+05      1.954      0.051   -1346.966    5.85e+05\n",
       "DISTRICT_النسيم الغربي  5.002e+04   1.42e+05      0.352      0.725   -2.29e+05    3.29e+05\n",
       "DISTRICT_النظيم           3.4e+05   1.76e+05      1.936      0.053   -4602.356    6.85e+05\n",
       "DISTRICT_اليمامة        4.676e+04   1.49e+05      0.313      0.754   -2.46e+05     3.4e+05\n",
       "DISTRICT_ام سليم        2.141e+05   1.93e+05      1.110      0.267   -1.64e+05    5.93e+05\n",
       "DISTRICT_بدر           -5.039e+04   1.57e+05     -0.321      0.748   -3.58e+05    2.57e+05\n",
       "DISTRICT_ديراب         -1.574e+05   2.15e+05     -0.732      0.464   -5.79e+05    2.64e+05\n",
       "DISTRICT_طويق           2.572e+05   1.32e+05      1.944      0.052   -2459.988    5.17e+05\n",
       "DISTRICT_ظهرة لبن       4.996e+05   1.57e+05      3.191      0.001    1.92e+05    8.07e+05\n",
       "DISTRICT_عتيقة          2.218e+05   1.51e+05      1.465      0.143   -7.54e+04    5.19e+05\n",
       "DISTRICT_غبيرة          1.583e+05    1.5e+05      1.058      0.290   -1.35e+05    4.52e+05\n",
       "DISTRICT_منفوحة         1.615e+05    1.3e+05      1.246      0.213   -9.28e+04    4.16e+05\n",
       "BED2                    4.882e+04   1.41e+04      3.463      0.001    2.12e+04    7.65e+04\n",
       "BATH2                  -8943.2652    1.5e+04     -0.594      0.552   -3.85e+04    2.06e+04\n",
       "SIZE2                     -0.5140      0.032    -16.144      0.000      -0.576      -0.451\n",
       "==============================================================================\n",
       "Omnibus:                      402.216   Durbin-Watson:                   1.988\n",
       "Prob(Omnibus):                  0.000   Jarque-Bera (JB):             6975.106\n",
       "Skew:                           1.461   Prob(JB):                         0.00\n",
       "Kurtosis:                      15.892   Cond. No.                     4.68e+07\n",
       "==============================================================================\n",
       "\n",
       "Notes:\n",
       "[1] R² is computed without centering (uncentered) since the model does not contain a constant.\n",
       "[2] Standard Errors assume that the covariance matrix of the errors is correctly specified.\n",
       "[3] The condition number is large, 4.68e+07. This might indicate that there are\n",
       "strong multicollinearity or other numerical problems.\n",
       "\"\"\""
      ]
     },
     "execution_count": 42,
     "metadata": {},
     "output_type": "execute_result"
    }
   ],
   "source": [
    "model = sm.OLS(y,X5) # \"from stats package\"\n",
    "fit = model.fit()\n",
    "fit.summary()"
   ]
  },
  {
   "cell_type": "code",
   "execution_count": 45,
   "id": "353de7fa",
   "metadata": {},
   "outputs": [
    {
     "name": "stderr",
     "output_type": "stream",
     "text": [
      "*c* argument looks like a single numeric RGB or RGBA sequence, which should be avoided as value-mapping will have precedence in case its length matches with *x* & *y*.  Please use the *color* keyword-argument or provide a 2-D array with a single row if you intend to specify the same RGB or RGBA value for all points.\n"
     ]
    },
    {
     "data": {
      "image/png": "[encoded data removed]",
      "text/plain": [
       "<Figure size 720x432 with 1 Axes>"
      ]
     },
     "metadata": {},
     "output_type": "display_data"
    }
   ],
   "source": [
    "# create residual plot\n",
    "dfe['predict']=fit.predict(X5) # \"we added the predication to the data frame\"\n",
    "dfe['resid']= y-dfe.predict # \"we added the residuals to the data frame\"\n",
    "with sns.axes_style('white'):\n",
    "    plot = dfe.plot(\n",
    "        kind='scatter', x='predict', y='resid', alpha=0.5, figsize=(10,6))"
   ]
  },
  {
   "cell_type": "code",
   "execution_count": 46,
   "id": "b0936b85",
   "metadata": {},
   "outputs": [
    {
     "data": {
      "image/png": "[encoded data removed]",
      "text/plain": [
       "<Figure size 432x288 with 1 Axes>"
      ]
     },
     "metadata": {},
     "output_type": "display_data"
    }
   ],
   "source": [
    "# create histogram\n",
    "dfe.PRICE.hist();\n",
    "\n",
    "# note the Right skew"
   ]
  },
  {
   "cell_type": "code",
   "execution_count": 54,
   "id": "fc07999a",
   "metadata": {
    "scrolled": true
   },
   "outputs": [
    {
     "data": {
      "image/png": "[encoded data removed]",
      "text/plain": [
       "<Figure size 432x288 with 1 Axes>"
      ]
     },
     "metadata": {},
     "output_type": "display_data"
    }
   ],
   "source": [
    "# quick reg plot\n",
    "plt.scatter(dfe.PRICE,y)\n",
    "plt.scatter(dfe.PRICE,dfe.predict);"
   ]
  },
  {
   "cell_type": "markdown",
   "id": "93a4c4e5",
   "metadata": {},
   "source": [
    "> The predictions are in orange, and they're not able to capture the exponential explosions of some movie profits."
   ]
  },
  {
   "cell_type": "code",
   "execution_count": 48,
   "id": "73812dc2",
   "metadata": {},
   "outputs": [
    {
     "data": {
      "image/png": "[encoded data removed]",
      "text/plain": [
       "<Figure size 432x288 with 1 Axes>"
      ]
     },
     "metadata": {},
     "output_type": "display_data"
    }
   ],
   "source": [
    "np.log(dfe.PRICE).hist();"
   ]
  },
  {
   "cell_type": "code",
   "execution_count": 55,
   "id": "714e90c7",
   "metadata": {},
   "outputs": [
    {
     "data": {
      "image/png": "[encoded data removed]",
      "text/plain": [
       "<Figure size 432x288 with 1 Axes>"
      ]
     },
     "metadata": {},
     "output_type": "display_data"
    }
   ],
   "source": [
    "plt.scatter(dfe.PRICE,y)\n",
    "plt.scatter(np.log(dfe.PRICE),np.log(dfe.predict));"
   ]
  },
  {
   "cell_type": "markdown",
   "id": "9d366702",
   "metadata": {},
   "source": [
    "> From here we can see after compress the raw data we can see that helps us model more accurately."
   ]
  },
  {
   "cell_type": "markdown",
   "id": "e54152e1",
   "metadata": {},
   "source": [
    "## Save model "
   ]
  },
  {
   "cell_type": "code",
   "execution_count": 56,
   "id": "69ca3b11",
   "metadata": {},
   "outputs": [],
   "source": [
    "filename = 'final_ Aqar_model.sav'\n",
    "pickle.dump(lr, open(filename, 'wb'))"
   ]
  },
  {
   "cell_type": "markdown",
   "id": "463544e0",
   "metadata": {},
   "source": [
    "## Conclusion \n",
    "\n",
    "we have accomplished a good results with the linear regrission model and at start we have using a web scraping to keep the data updated and real data. from that we devlop two models linear and ridge. all of those model has a very good results as a start \n",
    "\n",
    "## Future work\n",
    "This is a simple use for our model since we only took Riyadh real estate data and only from Aqar for future we want to train and test our model on many cites and other sources of data.\n",
    "\n"
   ]
  }
 ],
 "metadata": {
  "kernelspec": {
   "display_name": "Python 3",
   "language": "python",
   "name": "python3"
  },
  "language_info": {
   "codemirror_mode": {
    "name": "ipython",
    "version": 3
   },
   "file_extension": ".py",
   "mimetype": "text/x-python",
   "name": "python",
   "nbconvert_exporter": "python",
   "pygments_lexer": "ipython3",
   "version": "3.8.8"
  }
 },
 "nbformat": 4,
 "nbformat_minor": 5
}
